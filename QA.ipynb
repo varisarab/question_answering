{
  "nbformat": 4,
  "nbformat_minor": 0,
  "metadata": {
    "colab": {
      "name": "QA.ipynb",
      "provenance": [],
      "collapsed_sections": []
    },
    "kernelspec": {
      "name": "python3",
      "display_name": "Python 3"
    },
    "language_info": {
      "name": "python"
    },
    "accelerator": "GPU"
  },
  "cells": [
    {
      "cell_type": "code",
      "execution_count": 1,
      "metadata": {
        "id": "WJq-D4vr1mTQ"
      },
      "outputs": [],
      "source": [
        "import pickle\n",
        "import numpy as np"
      ]
    },
    {
      "cell_type": "code",
      "source": [
        "from google.colab import drive\n",
        "drive.mount(\"/content/drive\")"
      ],
      "metadata": {
        "colab": {
          "base_uri": "https://localhost:8080/"
        },
        "id": "hipMYUBE22A6",
        "outputId": "e105adbc-1ce5-4f4c-c0bf-f0ae3a22d191"
      },
      "execution_count": 2,
      "outputs": [
        {
          "output_type": "stream",
          "name": "stdout",
          "text": [
            "Mounted at /content/drive\n"
          ]
        }
      ]
    },
    {
      "cell_type": "code",
      "source": [
        "data_path_train = '/content/drive/My Drive/dataset/babi/train_qa.txt'"
      ],
      "metadata": {
        "id": "gI9aH1oZ3EW6"
      },
      "execution_count": 3,
      "outputs": []
    },
    {
      "cell_type": "code",
      "source": [
        "data_path_test = '/content/drive/My Drive/dataset/babi/test_qa.txt'"
      ],
      "metadata": {
        "id": "bYIrxU_S3u3o"
      },
      "execution_count": 4,
      "outputs": []
    },
    {
      "cell_type": "code",
      "source": [
        "with open('/content/drive/My Drive/dataset/babi/train_qa.txt', 'rb') as fp:   # Unpickling\n",
        "    train_data =  pickle.load(fp)"
      ],
      "metadata": {
        "id": "1FgBHCQY1o6m"
      },
      "execution_count": 5,
      "outputs": []
    },
    {
      "cell_type": "code",
      "source": [
        "with open('/content/drive/My Drive/dataset/babi/test_qa.txt', 'rb') as fp:   # Unpickling\n",
        "    test_data =  pickle.load(fp)"
      ],
      "metadata": {
        "id": "8jzOucUL20LS"
      },
      "execution_count": 6,
      "outputs": []
    },
    {
      "cell_type": "code",
      "source": [
        "type(train_data)"
      ],
      "metadata": {
        "colab": {
          "base_uri": "https://localhost:8080/"
        },
        "id": "vM4ueLCU33w9",
        "outputId": "4d2e8df0-d711-4118-9cfd-96dd6025b100"
      },
      "execution_count": 7,
      "outputs": [
        {
          "output_type": "execute_result",
          "data": {
            "text/plain": [
              "list"
            ]
          },
          "metadata": {},
          "execution_count": 7
        }
      ]
    },
    {
      "cell_type": "code",
      "source": [
        "type(test_data)"
      ],
      "metadata": {
        "colab": {
          "base_uri": "https://localhost:8080/"
        },
        "id": "Weji3mxr3_7r",
        "outputId": "e891bb74-7276-4ae1-f9ff-44de9639c720"
      },
      "execution_count": 8,
      "outputs": [
        {
          "output_type": "execute_result",
          "data": {
            "text/plain": [
              "list"
            ]
          },
          "metadata": {},
          "execution_count": 8
        }
      ]
    },
    {
      "cell_type": "code",
      "source": [
        "len(test_data)"
      ],
      "metadata": {
        "colab": {
          "base_uri": "https://localhost:8080/"
        },
        "id": "yK76EuyE5sux",
        "outputId": "0fac878b-9945-4da1-a79a-e1bf0e630579"
      },
      "execution_count": 9,
      "outputs": [
        {
          "output_type": "execute_result",
          "data": {
            "text/plain": [
              "1000"
            ]
          },
          "metadata": {},
          "execution_count": 9
        }
      ]
    },
    {
      "cell_type": "code",
      "source": [
        "len(train_data)"
      ],
      "metadata": {
        "colab": {
          "base_uri": "https://localhost:8080/"
        },
        "id": "WpscMMf_5rHS",
        "outputId": "0bd6eb7f-7820-4a25-ca72-f96fe3347d56"
      },
      "execution_count": 10,
      "outputs": [
        {
          "output_type": "execute_result",
          "data": {
            "text/plain": [
              "10000"
            ]
          },
          "metadata": {},
          "execution_count": 10
        }
      ]
    },
    {
      "cell_type": "code",
      "source": [
        "train_data[0]"
      ],
      "metadata": {
        "colab": {
          "base_uri": "https://localhost:8080/"
        },
        "id": "4YOWUhkE4GvY",
        "outputId": "825ad619-c095-4c13-b363-454d026cedb8"
      },
      "execution_count": 11,
      "outputs": [
        {
          "output_type": "execute_result",
          "data": {
            "text/plain": [
              "(['Mary',\n",
              "  'moved',\n",
              "  'to',\n",
              "  'the',\n",
              "  'bathroom',\n",
              "  '.',\n",
              "  'Sandra',\n",
              "  'journeyed',\n",
              "  'to',\n",
              "  'the',\n",
              "  'bedroom',\n",
              "  '.'],\n",
              " ['Is', 'Sandra', 'in', 'the', 'hallway', '?'],\n",
              " 'no')"
            ]
          },
          "metadata": {},
          "execution_count": 11
        }
      ]
    },
    {
      "cell_type": "code",
      "source": [
        "' '.join(train_data[0][0])"
      ],
      "metadata": {
        "colab": {
          "base_uri": "https://localhost:8080/",
          "height": 35
        },
        "id": "bFGHfVXH4LKG",
        "outputId": "091118b9-c34c-4f4b-c15f-d38edfcb27b6"
      },
      "execution_count": 12,
      "outputs": [
        {
          "output_type": "execute_result",
          "data": {
            "text/plain": [
              "'Mary moved to the bathroom . Sandra journeyed to the bedroom .'"
            ],
            "application/vnd.google.colaboratory.intrinsic+json": {
              "type": "string"
            }
          },
          "metadata": {},
          "execution_count": 12
        }
      ]
    },
    {
      "cell_type": "code",
      "source": [
        "' '.join(train_data[0][1])"
      ],
      "metadata": {
        "colab": {
          "base_uri": "https://localhost:8080/",
          "height": 35
        },
        "id": "8MVlubFN4Q1S",
        "outputId": "7c091b08-ccbd-4f34-f6bb-368985800485"
      },
      "execution_count": 13,
      "outputs": [
        {
          "output_type": "execute_result",
          "data": {
            "text/plain": [
              "'Is Sandra in the hallway ?'"
            ],
            "application/vnd.google.colaboratory.intrinsic+json": {
              "type": "string"
            }
          },
          "metadata": {},
          "execution_count": 13
        }
      ]
    },
    {
      "cell_type": "code",
      "source": [
        "train_data[0][2]"
      ],
      "metadata": {
        "colab": {
          "base_uri": "https://localhost:8080/",
          "height": 35
        },
        "id": "IXSeI7kc4TLD",
        "outputId": "7a06cf36-ee35-45bc-e0b7-c1e7427a216c"
      },
      "execution_count": 14,
      "outputs": [
        {
          "output_type": "execute_result",
          "data": {
            "text/plain": [
              "'no'"
            ],
            "application/vnd.google.colaboratory.intrinsic+json": {
              "type": "string"
            }
          },
          "metadata": {},
          "execution_count": 14
        }
      ]
    },
    {
      "cell_type": "code",
      "source": [
        "vocab = set()"
      ],
      "metadata": {
        "id": "xUa3yEpOeG6Q"
      },
      "execution_count": 18,
      "outputs": []
    },
    {
      "cell_type": "code",
      "source": [
        "complete_data = test_data + train_data"
      ],
      "metadata": {
        "id": "hcMSAQJW4XaI"
      },
      "execution_count": 19,
      "outputs": []
    },
    {
      "cell_type": "code",
      "source": [
        "for story, ques, ans in complete_data:\n",
        "    vocab = vocab.union(set(story))\n",
        "    vocab = vocab.union(set(ques))"
      ],
      "metadata": {
        "id": "B-JB6pAM4coV"
      },
      "execution_count": 20,
      "outputs": []
    },
    {
      "cell_type": "code",
      "source": [
        "vocab.add('no')\n",
        "vocab.add('yes')"
      ],
      "metadata": {
        "id": "AomK-i5H4mM3"
      },
      "execution_count": 21,
      "outputs": []
    },
    {
      "cell_type": "code",
      "source": [
        "vocab"
      ],
      "metadata": {
        "colab": {
          "base_uri": "https://localhost:8080/"
        },
        "id": "sRyO9dK64nx1",
        "outputId": "a7131d34-9e11-43ee-84db-62cc1eac90b6"
      },
      "execution_count": 22,
      "outputs": [
        {
          "output_type": "execute_result",
          "data": {
            "text/plain": [
              "{'.',\n",
              " '?',\n",
              " 'Daniel',\n",
              " 'Is',\n",
              " 'John',\n",
              " 'Mary',\n",
              " 'Sandra',\n",
              " 'apple',\n",
              " 'back',\n",
              " 'bathroom',\n",
              " 'bedroom',\n",
              " 'discarded',\n",
              " 'down',\n",
              " 'dropped',\n",
              " 'football',\n",
              " 'garden',\n",
              " 'got',\n",
              " 'grabbed',\n",
              " 'hallway',\n",
              " 'in',\n",
              " 'journeyed',\n",
              " 'kitchen',\n",
              " 'left',\n",
              " 'milk',\n",
              " 'moved',\n",
              " 'no',\n",
              " 'office',\n",
              " 'picked',\n",
              " 'put',\n",
              " 'the',\n",
              " 'there',\n",
              " 'to',\n",
              " 'took',\n",
              " 'travelled',\n",
              " 'up',\n",
              " 'went',\n",
              " 'yes'}"
            ]
          },
          "metadata": {},
          "execution_count": 22
        }
      ]
    },
    {
      "cell_type": "code",
      "source": [
        "length_vocab = len(vocab) + 1 "
      ],
      "metadata": {
        "id": "tOa2C22n4pqF"
      },
      "execution_count": 23,
      "outputs": []
    },
    {
      "cell_type": "code",
      "source": [
        "max_story_length = max([len(data[0]) for data in complete_data])"
      ],
      "metadata": {
        "id": "Zrk3yrma4uPY"
      },
      "execution_count": 24,
      "outputs": []
    },
    {
      "cell_type": "code",
      "source": [
        "max_story_length"
      ],
      "metadata": {
        "colab": {
          "base_uri": "https://localhost:8080/"
        },
        "id": "hCc6xTdX4yem",
        "outputId": "1f8ca6b7-005d-4c4f-c424-d7d2da609b36"
      },
      "execution_count": 25,
      "outputs": [
        {
          "output_type": "execute_result",
          "data": {
            "text/plain": [
              "156"
            ]
          },
          "metadata": {},
          "execution_count": 25
        }
      ]
    },
    {
      "cell_type": "code",
      "source": [
        "max_ques_length = max([len(data[1]) for data in complete_data])"
      ],
      "metadata": {
        "id": "mdnK7j5-40lR"
      },
      "execution_count": 26,
      "outputs": []
    },
    {
      "cell_type": "code",
      "source": [
        "max_ques_length"
      ],
      "metadata": {
        "colab": {
          "base_uri": "https://localhost:8080/"
        },
        "id": "q1ZX5Iyz5B3k",
        "outputId": "9cbd0ff0-7574-40b7-b41b-a7575c825b42"
      },
      "execution_count": 27,
      "outputs": [
        {
          "output_type": "execute_result",
          "data": {
            "text/plain": [
              "6"
            ]
          },
          "metadata": {},
          "execution_count": 27
        }
      ]
    },
    {
      "cell_type": "code",
      "source": [
        "vocab_size = len(vocab) + 1"
      ],
      "metadata": {
        "id": "vEHfzY-a5EJs"
      },
      "execution_count": 28,
      "outputs": []
    },
    {
      "cell_type": "code",
      "source": [
        "from keras.preprocessing.sequence import pad_sequences\n",
        "from keras.preprocessing.text import Tokenizer"
      ],
      "metadata": {
        "id": "foE2Eq645F4V"
      },
      "execution_count": 29,
      "outputs": []
    },
    {
      "cell_type": "code",
      "source": [
        "tokenizer = Tokenizer(filters=[])\n",
        "tokenizer.fit_on_texts(vocab)"
      ],
      "metadata": {
        "id": "scLE0WHF5LNt"
      },
      "execution_count": 30,
      "outputs": []
    },
    {
      "cell_type": "code",
      "source": [
        "tokenizer.word_index"
      ],
      "metadata": {
        "colab": {
          "base_uri": "https://localhost:8080/"
        },
        "id": "9gmMP5ym5N5I",
        "outputId": "b86a7995-33ad-40c6-f6f4-d090a95567c2"
      },
      "execution_count": 31,
      "outputs": [
        {
          "output_type": "execute_result",
          "data": {
            "text/plain": [
              "{'.': 30,\n",
              " '?': 10,\n",
              " 'apple': 7,\n",
              " 'back': 15,\n",
              " 'bathroom': 36,\n",
              " 'bedroom': 29,\n",
              " 'daniel': 34,\n",
              " 'discarded': 17,\n",
              " 'down': 24,\n",
              " 'dropped': 1,\n",
              " 'football': 4,\n",
              " 'garden': 9,\n",
              " 'got': 21,\n",
              " 'grabbed': 20,\n",
              " 'hallway': 8,\n",
              " 'in': 28,\n",
              " 'is': 22,\n",
              " 'john': 27,\n",
              " 'journeyed': 33,\n",
              " 'kitchen': 19,\n",
              " 'left': 2,\n",
              " 'mary': 11,\n",
              " 'milk': 16,\n",
              " 'moved': 31,\n",
              " 'no': 25,\n",
              " 'office': 18,\n",
              " 'picked': 6,\n",
              " 'put': 23,\n",
              " 'sandra': 37,\n",
              " 'the': 26,\n",
              " 'there': 32,\n",
              " 'to': 13,\n",
              " 'took': 5,\n",
              " 'travelled': 14,\n",
              " 'up': 35,\n",
              " 'went': 12,\n",
              " 'yes': 3}"
            ]
          },
          "metadata": {},
          "execution_count": 31
        }
      ]
    },
    {
      "cell_type": "code",
      "source": [
        "train_story_text = []\n",
        "train_ques_text = []\n",
        "train_ans = []\n",
        "\n",
        "for story,ques,ans in train_data:\n",
        "    train_story_text.append(story)\n",
        "    train_ques_text.append(ques)"
      ],
      "metadata": {
        "id": "lsJ81E7a5UcU"
      },
      "execution_count": 32,
      "outputs": []
    },
    {
      "cell_type": "code",
      "source": [
        "train_story_sequence = tokenizer.texts_to_sequences(train_story_text)"
      ],
      "metadata": {
        "id": "VxCMm-7-5eNR"
      },
      "execution_count": 33,
      "outputs": []
    },
    {
      "cell_type": "code",
      "source": [
        "len(train_story_text)"
      ],
      "metadata": {
        "colab": {
          "base_uri": "https://localhost:8080/"
        },
        "id": "wxihdMaJ5hpV",
        "outputId": "016d19ed-9ad4-4570-d7e6-ceda697be053"
      },
      "execution_count": 34,
      "outputs": [
        {
          "output_type": "execute_result",
          "data": {
            "text/plain": [
              "10000"
            ]
          },
          "metadata": {},
          "execution_count": 34
        }
      ]
    },
    {
      "cell_type": "code",
      "source": [
        "len(train_story_sequence)"
      ],
      "metadata": {
        "colab": {
          "base_uri": "https://localhost:8080/"
        },
        "id": "INf1jRdg5kMG",
        "outputId": "a6085ddf-be7f-4e89-d16b-d3b561bb5a54"
      },
      "execution_count": 35,
      "outputs": [
        {
          "output_type": "execute_result",
          "data": {
            "text/plain": [
              "10000"
            ]
          },
          "metadata": {},
          "execution_count": 35
        }
      ]
    },
    {
      "cell_type": "code",
      "source": [
        "def vectorize_stories(data, word_index=tokenizer.word_index, max_story_length=max_story_length,max_ques_length=max_ques_length):\n",
        "\n",
        "    \n",
        "    # X = STORIES\n",
        "    X = []\n",
        "    # Qs = QUESTION\n",
        "    Qs = []\n",
        "    # Y = CORRECT ANSWER\n",
        "    Y = []\n",
        "    \n",
        "    \n",
        "    for story, ques, ans in data:\n",
        "        \n",
        "        # Grab the word index for every word in story\n",
        "        x = [word_index[word.lower()] for word in story]\n",
        "        # Grab the word index for every word in question\n",
        "        qs = [word_index[word.lower()] for word in ques]\n",
        "        \n",
        "        # Grab the Answers (either Yes/No)\n",
        "        # Index 0 is reserved so + 1\n",
        "        y = np.zeros(len(word_index) + 1)\n",
        "        \n",
        "        # y == all zeros (Yes/No) , we can use numpy logic to create this assignment\n",
        "        y[word_index[ans]] = 1\n",
        "        \n",
        "        # Append each set of story,question, and answer to their lists\n",
        "        X.append(x)\n",
        "        Qs.append(qs)\n",
        "        Y.append(y)\n",
        "        \n",
        "    # Pad the sequences based on their max length so the RNN can be trained on uniformly long sequences.\n",
        "        \n",
        "    # RETURN TUPLE FOR UNPACKING\n",
        "    return (pad_sequences(X, maxlen=max_story_length),pad_sequences(Qs, maxlen=max_ques_length), np.array(Y))"
      ],
      "metadata": {
        "id": "WkY13RxH59Xi"
      },
      "execution_count": 36,
      "outputs": []
    },
    {
      "cell_type": "code",
      "source": [
        "inputs_train, ques_train, ans_train = vectorize_stories(train_data)"
      ],
      "metadata": {
        "id": "bhJiz--P7XCY"
      },
      "execution_count": 37,
      "outputs": []
    },
    {
      "cell_type": "code",
      "source": [
        "inputs_test, ques_test, ans_test = vectorize_stories(test_data)"
      ],
      "metadata": {
        "id": "3eLIWvV_7lcw"
      },
      "execution_count": 38,
      "outputs": []
    },
    {
      "cell_type": "code",
      "source": [
        "inputs_test"
      ],
      "metadata": {
        "colab": {
          "base_uri": "https://localhost:8080/"
        },
        "id": "eaR79obh8ABv",
        "outputId": "9100f80a-4b17-46b8-ab7d-ea981bda2028"
      },
      "execution_count": 39,
      "outputs": [
        {
          "output_type": "execute_result",
          "data": {
            "text/plain": [
              "array([[ 0,  0,  0, ..., 26, 29, 30],\n",
              "       [ 0,  0,  0, ..., 26,  9, 30],\n",
              "       [ 0,  0,  0, ..., 26,  9, 30],\n",
              "       ...,\n",
              "       [ 0,  0,  0, ..., 26,  7, 30],\n",
              "       [ 0,  0,  0, ..., 26,  9, 30],\n",
              "       [ 0,  0,  0, ...,  7, 32, 30]], dtype=int32)"
            ]
          },
          "metadata": {},
          "execution_count": 39
        }
      ]
    },
    {
      "cell_type": "code",
      "source": [
        "ques_test"
      ],
      "metadata": {
        "colab": {
          "base_uri": "https://localhost:8080/"
        },
        "id": "HZB4zgCP8DLG",
        "outputId": "5458cfe5-e13d-479b-93bb-e87c11644c61"
      },
      "execution_count": 40,
      "outputs": [
        {
          "output_type": "execute_result",
          "data": {
            "text/plain": [
              "array([[22, 27, 28, 26, 19, 10],\n",
              "       [22, 27, 28, 26, 19, 10],\n",
              "       [22, 27, 28, 26,  9, 10],\n",
              "       ...,\n",
              "       [22, 11, 28, 26, 29, 10],\n",
              "       [22, 37, 28, 26,  9, 10],\n",
              "       [22, 11, 28, 26,  9, 10]], dtype=int32)"
            ]
          },
          "metadata": {},
          "execution_count": 40
        }
      ]
    },
    {
      "cell_type": "code",
      "source": [
        "ans_test"
      ],
      "metadata": {
        "colab": {
          "base_uri": "https://localhost:8080/"
        },
        "id": "GrrRa2eH8GVM",
        "outputId": "ae6d2531-175e-4842-ef65-fd7d44614cfb"
      },
      "execution_count": 41,
      "outputs": [
        {
          "output_type": "execute_result",
          "data": {
            "text/plain": [
              "array([[0., 0., 0., ..., 0., 0., 0.],\n",
              "       [0., 0., 0., ..., 0., 0., 0.],\n",
              "       [0., 0., 0., ..., 0., 0., 0.],\n",
              "       ...,\n",
              "       [0., 0., 0., ..., 0., 0., 0.],\n",
              "       [0., 0., 0., ..., 0., 0., 0.],\n",
              "       [0., 0., 0., ..., 0., 0., 0.]])"
            ]
          },
          "metadata": {},
          "execution_count": 41
        }
      ]
    },
    {
      "cell_type": "code",
      "source": [
        "sum(ans_test)"
      ],
      "metadata": {
        "colab": {
          "base_uri": "https://localhost:8080/"
        },
        "id": "4qEWefMW8JYj",
        "outputId": "ec30f738-8a8f-413b-8614-151a8c9561b0"
      },
      "execution_count": 42,
      "outputs": [
        {
          "output_type": "execute_result",
          "data": {
            "text/plain": [
              "array([  0.,   0.,   0., 497.,   0.,   0.,   0.,   0.,   0.,   0.,   0.,\n",
              "         0.,   0.,   0.,   0.,   0.,   0.,   0.,   0.,   0.,   0.,   0.,\n",
              "         0.,   0.,   0., 503.,   0.,   0.,   0.,   0.,   0.,   0.,   0.,\n",
              "         0.,   0.,   0.,   0.,   0.])"
            ]
          },
          "metadata": {},
          "execution_count": 42
        }
      ]
    },
    {
      "cell_type": "code",
      "source": [
        "tokenizer.word_index['yes']"
      ],
      "metadata": {
        "colab": {
          "base_uri": "https://localhost:8080/"
        },
        "id": "vWMLsrwn8L02",
        "outputId": "13389f71-668d-4a7d-b05c-b3c660b6bfb1"
      },
      "execution_count": 43,
      "outputs": [
        {
          "output_type": "execute_result",
          "data": {
            "text/plain": [
              "3"
            ]
          },
          "metadata": {},
          "execution_count": 43
        }
      ]
    },
    {
      "cell_type": "code",
      "source": [
        "tokenizer.word_index['no']"
      ],
      "metadata": {
        "colab": {
          "base_uri": "https://localhost:8080/"
        },
        "id": "fP97P0j08OZ5",
        "outputId": "c2249af6-81b6-4a33-a2af-16fdf7d1ef80"
      },
      "execution_count": 44,
      "outputs": [
        {
          "output_type": "execute_result",
          "data": {
            "text/plain": [
              "25"
            ]
          },
          "metadata": {},
          "execution_count": 44
        }
      ]
    },
    {
      "cell_type": "code",
      "source": [
        "# Model"
      ],
      "metadata": {
        "id": "NU-y0xeh8Qsi"
      },
      "execution_count": 45,
      "outputs": []
    },
    {
      "cell_type": "code",
      "source": [
        "from keras.models import Sequential, Model\n",
        "from keras.layers.embeddings import Embedding\n",
        "from keras.layers import Input, Activation, Dense, Permute, Dropout\n",
        "from keras.layers import add, dot, concatenate\n",
        "from keras.layers import LSTM"
      ],
      "metadata": {
        "id": "6yaEyvy_8Ut_"
      },
      "execution_count": 46,
      "outputs": []
    },
    {
      "cell_type": "code",
      "source": [
        "input_sequence = Input((max_story_length,))\n",
        "question = Input((max_ques_length,))"
      ],
      "metadata": {
        "id": "_35V8LlC8VV1"
      },
      "execution_count": 47,
      "outputs": []
    },
    {
      "cell_type": "code",
      "source": [
        "# Encoders"
      ],
      "metadata": {
        "id": "xtrjhuLN8ceu"
      },
      "execution_count": 48,
      "outputs": []
    },
    {
      "cell_type": "code",
      "source": [
        "# Input embedded into a sequence of vectors\n",
        "input_encoder1 = Sequential()\n",
        "input_encoder1.add(Embedding(input_dim=vocab_size,output_dim=64))\n",
        "input_encoder1.add(Dropout(0.3))\n",
        "\n",
        "# Output from encoder: (samples, story_max_length, embedding_dim)"
      ],
      "metadata": {
        "id": "_UOf9QZZ8ht6"
      },
      "execution_count": 49,
      "outputs": []
    },
    {
      "cell_type": "code",
      "source": [
        "# Input embedded into a sequence of vectors (ques_max_length size)\n",
        "input_encoder2 = Sequential()\n",
        "input_encoder2.add(Embedding(input_dim=vocab_size,output_dim=max_ques_length))\n",
        "input_encoder2.add(Dropout(0.3))\n",
        "# Output from encoder: (samples, story_max_length, ques_max_length)"
      ],
      "metadata": {
        "id": "5_nHVtHD8tLW"
      },
      "execution_count": 50,
      "outputs": []
    },
    {
      "cell_type": "code",
      "source": [
        "# Question encoder"
      ],
      "metadata": {
        "id": "C11Tk1Cl9TKX"
      },
      "execution_count": 51,
      "outputs": []
    },
    {
      "cell_type": "code",
      "source": [
        "# Question embedded into a sequence of vectors\n",
        "ques_encoder = Sequential()\n",
        "ques_encoder.add(Embedding(input_dim=vocab_size,\n",
        "                               output_dim=64,\n",
        "                               input_length=max_ques_length))\n",
        "ques_encoder.add(Dropout(0.3))\n",
        "# Output from encoder: (samples, ques_max_length, embedding_dim)"
      ],
      "metadata": {
        "id": "Mg87b31w9Wr6"
      },
      "execution_count": 52,
      "outputs": []
    },
    {
      "cell_type": "code",
      "source": [
        "# Sequence endoer"
      ],
      "metadata": {
        "id": "It1ZiUG99l1F"
      },
      "execution_count": 53,
      "outputs": []
    },
    {
      "cell_type": "code",
      "source": [
        "# encode input sequence and questions (which are indices)\n",
        "# to sequences of dense vectors\n",
        "input_encoded1 = input_encoder1(input_sequence)\n",
        "input_encoded2 = input_encoder2(input_sequence)\n",
        "ques_encoded = ques_encoder(question)"
      ],
      "metadata": {
        "id": "RnGoJRjP9raI"
      },
      "execution_count": 54,
      "outputs": []
    },
    {
      "cell_type": "code",
      "source": [
        "# shape: (samples, story_max_length , ques_max_length)\n",
        "match = dot([input_encoded1, ques_encoded], axes=(2, 2))\n",
        "match = Activation('softmax')(match)"
      ],
      "metadata": {
        "id": "Rxb215yP927l"
      },
      "execution_count": 55,
      "outputs": []
    },
    {
      "cell_type": "code",
      "source": [
        "# add the match matrix with the second input vector sequence\n",
        "response = add([match, input_encoded2])  # (samples, story_max_length, ques_max_length)\n",
        "response = Permute((2, 1))(response)  # (samples, ques_max_length, story_max_length)"
      ],
      "metadata": {
        "id": "md0bHEPz-LSX"
      },
      "execution_count": 56,
      "outputs": []
    },
    {
      "cell_type": "code",
      "source": [
        "answer = concatenate([response, ques_encoded])"
      ],
      "metadata": {
        "id": "qnWxuYXh-YMK"
      },
      "execution_count": 57,
      "outputs": []
    },
    {
      "cell_type": "code",
      "source": [
        "answer"
      ],
      "metadata": {
        "colab": {
          "base_uri": "https://localhost:8080/"
        },
        "id": "Cu3Qgc8k-rTe",
        "outputId": "3ecba417-be4a-4f48-eab2-ef6a68410781"
      },
      "execution_count": 58,
      "outputs": [
        {
          "output_type": "execute_result",
          "data": {
            "text/plain": [
              "<KerasTensor: shape=(None, 6, 220) dtype=float32 (created by layer 'concatenate')>"
            ]
          },
          "metadata": {},
          "execution_count": 58
        }
      ]
    },
    {
      "cell_type": "code",
      "source": [
        "# RNN(LSTM) reduce\n",
        "answer = LSTM(32)(answer)  # (samples, 32)"
      ],
      "metadata": {
        "id": "Uz6DEY0F-w9O"
      },
      "execution_count": 59,
      "outputs": []
    },
    {
      "cell_type": "code",
      "source": [
        "answer = Dropout(0.5)(answer)\n",
        "answer = Dense(vocab_size)(answer)"
      ],
      "metadata": {
        "id": "SsdQRPFl-3mt"
      },
      "execution_count": 60,
      "outputs": []
    },
    {
      "cell_type": "code",
      "source": [
        "answer = Activation('softmax')(answer)"
      ],
      "metadata": {
        "id": "Yam9QLAvAJlR"
      },
      "execution_count": 61,
      "outputs": []
    },
    {
      "cell_type": "code",
      "source": [
        "# Final model\n",
        "model = Model([input_sequence, question], answer)\n",
        "model.compile(optimizer='rmsprop', loss='categorical_crossentropy',\n",
        "              metrics=['accuracy'])"
      ],
      "metadata": {
        "id": "gYqk7vkgAOlG"
      },
      "execution_count": 62,
      "outputs": []
    },
    {
      "cell_type": "code",
      "source": [
        "model.summary()"
      ],
      "metadata": {
        "colab": {
          "base_uri": "https://localhost:8080/"
        },
        "id": "83KxfgwAAS8f",
        "outputId": "467fda29-2e05-43a9-a070-c5b703d345b1"
      },
      "execution_count": 63,
      "outputs": [
        {
          "output_type": "stream",
          "name": "stdout",
          "text": [
            "Model: \"model\"\n",
            "__________________________________________________________________________________________________\n",
            " Layer (type)                   Output Shape         Param #     Connected to                     \n",
            "==================================================================================================\n",
            " input_1 (InputLayer)           [(None, 156)]        0           []                               \n",
            "                                                                                                  \n",
            " input_2 (InputLayer)           [(None, 6)]          0           []                               \n",
            "                                                                                                  \n",
            " sequential (Sequential)        (None, None, 64)     2432        ['input_1[0][0]']                \n",
            "                                                                                                  \n",
            " sequential_2 (Sequential)      (None, 6, 64)        2432        ['input_2[0][0]']                \n",
            "                                                                                                  \n",
            " dot (Dot)                      (None, 156, 6)       0           ['sequential[0][0]',             \n",
            "                                                                  'sequential_2[0][0]']           \n",
            "                                                                                                  \n",
            " activation (Activation)        (None, 156, 6)       0           ['dot[0][0]']                    \n",
            "                                                                                                  \n",
            " sequential_1 (Sequential)      (None, None, 6)      228         ['input_1[0][0]']                \n",
            "                                                                                                  \n",
            " add (Add)                      (None, 156, 6)       0           ['activation[0][0]',             \n",
            "                                                                  'sequential_1[0][0]']           \n",
            "                                                                                                  \n",
            " permute (Permute)              (None, 6, 156)       0           ['add[0][0]']                    \n",
            "                                                                                                  \n",
            " concatenate (Concatenate)      (None, 6, 220)       0           ['permute[0][0]',                \n",
            "                                                                  'sequential_2[0][0]']           \n",
            "                                                                                                  \n",
            " lstm (LSTM)                    (None, 32)           32384       ['concatenate[0][0]']            \n",
            "                                                                                                  \n",
            " dropout_3 (Dropout)            (None, 32)           0           ['lstm[0][0]']                   \n",
            "                                                                                                  \n",
            " dense (Dense)                  (None, 38)           1254        ['dropout_3[0][0]']              \n",
            "                                                                                                  \n",
            " activation_1 (Activation)      (None, 38)           0           ['dense[0][0]']                  \n",
            "                                                                                                  \n",
            "==================================================================================================\n",
            "Total params: 38,730\n",
            "Trainable params: 38,730\n",
            "Non-trainable params: 0\n",
            "__________________________________________________________________________________________________\n"
          ]
        }
      ]
    },
    {
      "cell_type": "code",
      "source": [
        "# train\n",
        "log = model.fit([inputs_train, ques_train], ans_train,batch_size=16,\n",
        "                    epochs=64,validation_data=([inputs_test, ques_test], ans_test))"
      ],
      "metadata": {
        "colab": {
          "base_uri": "https://localhost:8080/"
        },
        "id": "foBKwr1QA9-1",
        "outputId": "a263ff63-b248-4f53-f907-1fc77df59e72"
      },
      "execution_count": 64,
      "outputs": [
        {
          "output_type": "stream",
          "name": "stdout",
          "text": [
            "Epoch 1/64\n",
            "625/625 [==============================] - 15s 12ms/step - loss: 0.8007 - accuracy: 0.4953 - val_loss: 0.6936 - val_accuracy: 0.5030\n",
            "Epoch 2/64\n",
            "625/625 [==============================] - 7s 11ms/step - loss: 0.6970 - accuracy: 0.5101 - val_loss: 0.6952 - val_accuracy: 0.5030\n",
            "Epoch 3/64\n",
            "625/625 [==============================] - 7s 11ms/step - loss: 0.6962 - accuracy: 0.4979 - val_loss: 0.6934 - val_accuracy: 0.4970\n",
            "Epoch 4/64\n",
            "625/625 [==============================] - 7s 11ms/step - loss: 0.6951 - accuracy: 0.5019 - val_loss: 0.6936 - val_accuracy: 0.4970\n",
            "Epoch 5/64\n",
            "625/625 [==============================] - 7s 11ms/step - loss: 0.6950 - accuracy: 0.4998 - val_loss: 0.6933 - val_accuracy: 0.5030\n",
            "Epoch 6/64\n",
            "625/625 [==============================] - 7s 11ms/step - loss: 0.6955 - accuracy: 0.4937 - val_loss: 0.6940 - val_accuracy: 0.4970\n",
            "Epoch 7/64\n",
            "625/625 [==============================] - 7s 11ms/step - loss: 0.6947 - accuracy: 0.4975 - val_loss: 0.6935 - val_accuracy: 0.4970\n",
            "Epoch 8/64\n",
            "625/625 [==============================] - 7s 11ms/step - loss: 0.6945 - accuracy: 0.5021 - val_loss: 0.6941 - val_accuracy: 0.4970\n",
            "Epoch 9/64\n",
            "625/625 [==============================] - 7s 11ms/step - loss: 0.6949 - accuracy: 0.4938 - val_loss: 0.6942 - val_accuracy: 0.4970\n",
            "Epoch 10/64\n",
            "625/625 [==============================] - 7s 11ms/step - loss: 0.6937 - accuracy: 0.5103 - val_loss: 0.6938 - val_accuracy: 0.4970\n",
            "Epoch 11/64\n",
            "625/625 [==============================] - 7s 11ms/step - loss: 0.6932 - accuracy: 0.5069 - val_loss: 0.6960 - val_accuracy: 0.5050\n",
            "Epoch 12/64\n",
            "625/625 [==============================] - 8s 13ms/step - loss: 0.6867 - accuracy: 0.5326 - val_loss: 0.6795 - val_accuracy: 0.5460\n",
            "Epoch 13/64\n",
            "625/625 [==============================] - 7s 11ms/step - loss: 0.6566 - accuracy: 0.6104 - val_loss: 0.6365 - val_accuracy: 0.6540\n",
            "Epoch 14/64\n",
            "625/625 [==============================] - 7s 11ms/step - loss: 0.6352 - accuracy: 0.6413 - val_loss: 0.6201 - val_accuracy: 0.6580\n",
            "Epoch 15/64\n",
            "625/625 [==============================] - 7s 11ms/step - loss: 0.6275 - accuracy: 0.6540 - val_loss: 0.6052 - val_accuracy: 0.6730\n",
            "Epoch 16/64\n",
            "625/625 [==============================] - 7s 11ms/step - loss: 0.6074 - accuracy: 0.6800 - val_loss: 0.5790 - val_accuracy: 0.6940\n",
            "Epoch 17/64\n",
            "625/625 [==============================] - 7s 11ms/step - loss: 0.5852 - accuracy: 0.7014 - val_loss: 0.5444 - val_accuracy: 0.7430\n",
            "Epoch 18/64\n",
            "625/625 [==============================] - 7s 11ms/step - loss: 0.5605 - accuracy: 0.7249 - val_loss: 0.5237 - val_accuracy: 0.7490\n",
            "Epoch 19/64\n",
            "625/625 [==============================] - 7s 11ms/step - loss: 0.5459 - accuracy: 0.7342 - val_loss: 0.5089 - val_accuracy: 0.7610\n",
            "Epoch 20/64\n",
            "625/625 [==============================] - 7s 11ms/step - loss: 0.5264 - accuracy: 0.7501 - val_loss: 0.4949 - val_accuracy: 0.7690\n",
            "Epoch 21/64\n",
            "625/625 [==============================] - 7s 11ms/step - loss: 0.5162 - accuracy: 0.7532 - val_loss: 0.4845 - val_accuracy: 0.7850\n",
            "Epoch 22/64\n",
            "625/625 [==============================] - 7s 11ms/step - loss: 0.5054 - accuracy: 0.7650 - val_loss: 0.4760 - val_accuracy: 0.7970\n",
            "Epoch 23/64\n",
            "625/625 [==============================] - 7s 11ms/step - loss: 0.4913 - accuracy: 0.7724 - val_loss: 0.4860 - val_accuracy: 0.7920\n",
            "Epoch 24/64\n",
            "625/625 [==============================] - 7s 11ms/step - loss: 0.4718 - accuracy: 0.7858 - val_loss: 0.4547 - val_accuracy: 0.8100\n",
            "Epoch 25/64\n",
            "625/625 [==============================] - 7s 11ms/step - loss: 0.4627 - accuracy: 0.7959 - val_loss: 0.4535 - val_accuracy: 0.8070\n",
            "Epoch 26/64\n",
            "625/625 [==============================] - 7s 11ms/step - loss: 0.4665 - accuracy: 0.7881 - val_loss: 0.4494 - val_accuracy: 0.8090\n",
            "Epoch 27/64\n",
            "625/625 [==============================] - 7s 11ms/step - loss: 0.4532 - accuracy: 0.7978 - val_loss: 0.4294 - val_accuracy: 0.8120\n",
            "Epoch 28/64\n",
            "625/625 [==============================] - 7s 11ms/step - loss: 0.4509 - accuracy: 0.8007 - val_loss: 0.4433 - val_accuracy: 0.8050\n",
            "Epoch 29/64\n",
            "625/625 [==============================] - 7s 11ms/step - loss: 0.4365 - accuracy: 0.8048 - val_loss: 0.4430 - val_accuracy: 0.8100\n",
            "Epoch 30/64\n",
            "625/625 [==============================] - 7s 11ms/step - loss: 0.4358 - accuracy: 0.8088 - val_loss: 0.4564 - val_accuracy: 0.8000\n",
            "Epoch 31/64\n",
            "625/625 [==============================] - 7s 11ms/step - loss: 0.4267 - accuracy: 0.8134 - val_loss: 0.4423 - val_accuracy: 0.8050\n",
            "Epoch 32/64\n",
            "625/625 [==============================] - 7s 11ms/step - loss: 0.4194 - accuracy: 0.8182 - val_loss: 0.4173 - val_accuracy: 0.8190\n",
            "Epoch 33/64\n",
            "625/625 [==============================] - 7s 11ms/step - loss: 0.4140 - accuracy: 0.8191 - val_loss: 0.4251 - val_accuracy: 0.8100\n",
            "Epoch 34/64\n",
            "625/625 [==============================] - 7s 11ms/step - loss: 0.4132 - accuracy: 0.8206 - val_loss: 0.4233 - val_accuracy: 0.8140\n",
            "Epoch 35/64\n",
            "625/625 [==============================] - 7s 11ms/step - loss: 0.4029 - accuracy: 0.8213 - val_loss: 0.4203 - val_accuracy: 0.8120\n",
            "Epoch 36/64\n",
            "625/625 [==============================] - 7s 11ms/step - loss: 0.4064 - accuracy: 0.8254 - val_loss: 0.4142 - val_accuracy: 0.8090\n",
            "Epoch 37/64\n",
            "625/625 [==============================] - 7s 11ms/step - loss: 0.4032 - accuracy: 0.8214 - val_loss: 0.4398 - val_accuracy: 0.7980\n",
            "Epoch 38/64\n",
            "625/625 [==============================] - 7s 11ms/step - loss: 0.3952 - accuracy: 0.8278 - val_loss: 0.4361 - val_accuracy: 0.8010\n",
            "Epoch 39/64\n",
            "625/625 [==============================] - 7s 11ms/step - loss: 0.3963 - accuracy: 0.8283 - val_loss: 0.4197 - val_accuracy: 0.8120\n",
            "Epoch 40/64\n",
            "625/625 [==============================] - 7s 11ms/step - loss: 0.3990 - accuracy: 0.8281 - val_loss: 0.4189 - val_accuracy: 0.8130\n",
            "Epoch 41/64\n",
            "625/625 [==============================] - 7s 11ms/step - loss: 0.3896 - accuracy: 0.8309 - val_loss: 0.4304 - val_accuracy: 0.8090\n",
            "Epoch 42/64\n",
            "625/625 [==============================] - 7s 11ms/step - loss: 0.3885 - accuracy: 0.8323 - val_loss: 0.4097 - val_accuracy: 0.8150\n",
            "Epoch 43/64\n",
            "625/625 [==============================] - 7s 11ms/step - loss: 0.3811 - accuracy: 0.8389 - val_loss: 0.4251 - val_accuracy: 0.8080\n",
            "Epoch 44/64\n",
            "625/625 [==============================] - 7s 11ms/step - loss: 0.3773 - accuracy: 0.8378 - val_loss: 0.4393 - val_accuracy: 0.8060\n",
            "Epoch 45/64\n",
            "625/625 [==============================] - 7s 11ms/step - loss: 0.3720 - accuracy: 0.8397 - val_loss: 0.4298 - val_accuracy: 0.8090\n",
            "Epoch 46/64\n",
            "625/625 [==============================] - 7s 11ms/step - loss: 0.3657 - accuracy: 0.8445 - val_loss: 0.4236 - val_accuracy: 0.8080\n",
            "Epoch 47/64\n",
            "625/625 [==============================] - 7s 11ms/step - loss: 0.3738 - accuracy: 0.8395 - val_loss: 0.4348 - val_accuracy: 0.8060\n",
            "Epoch 48/64\n",
            "625/625 [==============================] - 7s 11ms/step - loss: 0.3676 - accuracy: 0.8409 - val_loss: 0.4507 - val_accuracy: 0.8140\n",
            "Epoch 49/64\n",
            "625/625 [==============================] - 7s 11ms/step - loss: 0.3619 - accuracy: 0.8444 - val_loss: 0.4359 - val_accuracy: 0.8070\n",
            "Epoch 50/64\n",
            "625/625 [==============================] - 7s 11ms/step - loss: 0.3643 - accuracy: 0.8412 - val_loss: 0.4275 - val_accuracy: 0.8110\n",
            "Epoch 51/64\n",
            "625/625 [==============================] - 7s 11ms/step - loss: 0.3551 - accuracy: 0.8490 - val_loss: 0.4474 - val_accuracy: 0.8110\n",
            "Epoch 52/64\n",
            "625/625 [==============================] - 7s 11ms/step - loss: 0.3598 - accuracy: 0.8443 - val_loss: 0.4227 - val_accuracy: 0.8040\n",
            "Epoch 53/64\n",
            "625/625 [==============================] - 7s 11ms/step - loss: 0.3570 - accuracy: 0.8488 - val_loss: 0.4225 - val_accuracy: 0.8120\n",
            "Epoch 54/64\n",
            "625/625 [==============================] - 7s 11ms/step - loss: 0.3533 - accuracy: 0.8518 - val_loss: 0.4684 - val_accuracy: 0.8090\n",
            "Epoch 55/64\n",
            "625/625 [==============================] - 7s 11ms/step - loss: 0.3600 - accuracy: 0.8454 - val_loss: 0.4372 - val_accuracy: 0.8180\n",
            "Epoch 56/64\n",
            "625/625 [==============================] - 7s 11ms/step - loss: 0.3630 - accuracy: 0.8439 - val_loss: 0.4263 - val_accuracy: 0.8150\n",
            "Epoch 57/64\n",
            "625/625 [==============================] - 7s 11ms/step - loss: 0.3521 - accuracy: 0.8511 - val_loss: 0.4288 - val_accuracy: 0.8090\n",
            "Epoch 58/64\n",
            "625/625 [==============================] - 7s 11ms/step - loss: 0.3548 - accuracy: 0.8492 - val_loss: 0.4377 - val_accuracy: 0.8120\n",
            "Epoch 59/64\n",
            "625/625 [==============================] - 7s 11ms/step - loss: 0.3503 - accuracy: 0.8500 - val_loss: 0.4629 - val_accuracy: 0.8070\n",
            "Epoch 60/64\n",
            "625/625 [==============================] - 7s 11ms/step - loss: 0.3502 - accuracy: 0.8525 - val_loss: 0.4509 - val_accuracy: 0.8100\n",
            "Epoch 61/64\n",
            "625/625 [==============================] - 7s 11ms/step - loss: 0.3499 - accuracy: 0.8553 - val_loss: 0.4778 - val_accuracy: 0.8020\n",
            "Epoch 62/64\n",
            "625/625 [==============================] - 7s 11ms/step - loss: 0.3405 - accuracy: 0.8547 - val_loss: 0.4456 - val_accuracy: 0.8110\n",
            "Epoch 63/64\n",
            "625/625 [==============================] - 7s 11ms/step - loss: 0.3429 - accuracy: 0.8542 - val_loss: 0.4465 - val_accuracy: 0.8020\n",
            "Epoch 64/64\n",
            "625/625 [==============================] - 7s 11ms/step - loss: 0.3397 - accuracy: 0.8551 - val_loss: 0.4544 - val_accuracy: 0.8050\n"
          ]
        }
      ]
    },
    {
      "cell_type": "code",
      "source": [
        "filename = 'QA_YESNO'\n",
        "model.save(filename)"
      ],
      "metadata": {
        "colab": {
          "base_uri": "https://localhost:8080/"
        },
        "id": "bHkA_lcFAVBh",
        "outputId": "5a6dd1a8-5eeb-478e-ed82-7291d7796dfd"
      },
      "execution_count": 65,
      "outputs": [
        {
          "output_type": "stream",
          "name": "stderr",
          "text": [
            "WARNING:absl:Found untraced functions such as lstm_cell_layer_call_fn, lstm_cell_layer_call_and_return_conditional_losses while saving (showing 2 of 2). These functions will not be directly callable after loading.\n"
          ]
        },
        {
          "output_type": "stream",
          "name": "stdout",
          "text": [
            "INFO:tensorflow:Assets written to: QA_YESNO/assets\n"
          ]
        },
        {
          "output_type": "stream",
          "name": "stderr",
          "text": [
            "INFO:tensorflow:Assets written to: QA_YESNO/assets\n",
            "WARNING:absl:<keras.layers.recurrent.LSTMCell object at 0x7f4b79801410> has the same name 'LSTMCell' as a built-in Keras object. Consider renaming <class 'keras.layers.recurrent.LSTMCell'> to avoid naming conflicts when loading with `tf.keras.models.load_model`. If renaming is not possible, pass the object in the `custom_objects` parameter of the load function.\n"
          ]
        }
      ]
    },
    {
      "cell_type": "code",
      "source": [
        "import matplotlib.pyplot as plt\n",
        "%matplotlib inline\n",
        "print(log.history.keys())"
      ],
      "metadata": {
        "colab": {
          "base_uri": "https://localhost:8080/"
        },
        "id": "upNZVc20Av-G",
        "outputId": "52374623-807a-46db-bb88-e0390361cf20"
      },
      "execution_count": 66,
      "outputs": [
        {
          "output_type": "stream",
          "name": "stdout",
          "text": [
            "dict_keys(['loss', 'accuracy', 'val_loss', 'val_accuracy'])\n"
          ]
        }
      ]
    },
    {
      "cell_type": "code",
      "source": [
        "plt.plot(log.history['accuracy'])\n",
        "plt.plot(log.history['val_accuracy'])\n",
        "plt.title('model accuracy')\n",
        "plt.ylabel('accuracy')\n",
        "plt.xlabel('epoch')\n",
        "plt.grid()\n",
        "plt.legend(['train', 'test'], loc='upper left')\n",
        "plt.show()"
      ],
      "metadata": {
        "colab": {
          "base_uri": "https://localhost:8080/",
          "height": 295
        },
        "id": "7Mmy7gx_Aygt",
        "outputId": "e3f21478-6cde-4679-bd37-62addbb6fa73"
      },
      "execution_count": 67,
      "outputs": [
        {
          "output_type": "display_data",
          "data": {
            "text/plain": [
              "<Figure size 432x288 with 1 Axes>"
            ],
            "image/png": "[encoded data removed]"
          },
          "metadata": {
            "needs_background": "light"
          }
        }
      ]
    },
    {
      "cell_type": "code",
      "source": [
        "plt.plot(log.history['loss'])\n",
        "plt.plot(log.history['val_loss'])\n",
        "plt.title('model loss')\n",
        "plt.ylabel('loss')\n",
        "plt.xlabel('epoch')\n",
        "plt.grid()\n",
        "plt.legend(['train', 'test'], loc='upper left')\n",
        "plt.show()"
      ],
      "metadata": {
        "colab": {
          "base_uri": "https://localhost:8080/",
          "height": 295
        },
        "id": "XzxEfSMvCDjl",
        "outputId": "55237d16-42c5-4a59-85ab-f6e198cddc5b"
      },
      "execution_count": 68,
      "outputs": [
        {
          "output_type": "display_data",
          "data": {
            "text/plain": [
              "<Figure size 432x288 with 1 Axes>"
            ],
            "image/png": "[encoded data removed]"
          },
          "metadata": {
            "needs_background": "light"
          }
        }
      ]
    },
    {
      "cell_type": "code",
      "source": [
        "model.load_weights(filename)\n",
        "pred_results = model.predict(([inputs_test, ques_test]))"
      ],
      "metadata": {
        "id": "4_768PJPCVg5"
      },
      "execution_count": 69,
      "outputs": []
    },
    {
      "cell_type": "code",
      "source": [
        "test_data[0][0]"
      ],
      "metadata": {
        "colab": {
          "base_uri": "https://localhost:8080/"
        },
        "id": "pguZ7WUcCvjl",
        "outputId": "ccb30a6b-0a65-4927-d51f-f46cc0c19bf4"
      },
      "execution_count": 70,
      "outputs": [
        {
          "output_type": "execute_result",
          "data": {
            "text/plain": [
              "['Mary',\n",
              " 'got',\n",
              " 'the',\n",
              " 'milk',\n",
              " 'there',\n",
              " '.',\n",
              " 'John',\n",
              " 'moved',\n",
              " 'to',\n",
              " 'the',\n",
              " 'bedroom',\n",
              " '.']"
            ]
          },
          "metadata": {},
          "execution_count": 70
        }
      ]
    },
    {
      "cell_type": "code",
      "source": [
        "story =' '.join(word for word in test_data[0][0])\n",
        "print(story)"
      ],
      "metadata": {
        "colab": {
          "base_uri": "https://localhost:8080/"
        },
        "id": "LlFUIh0aFnn9",
        "outputId": "4fca80ac-d077-4fbf-a9a7-3dec6384e63e"
      },
      "execution_count": 71,
      "outputs": [
        {
          "output_type": "stream",
          "name": "stdout",
          "text": [
            "Mary got the milk there . John moved to the bedroom .\n"
          ]
        }
      ]
    },
    {
      "cell_type": "code",
      "source": [
        "ques = ' '.join(word for word in test_data[0][1])\n",
        "print(ques)"
      ],
      "metadata": {
        "colab": {
          "base_uri": "https://localhost:8080/"
        },
        "id": "HsUT79U0F2VT",
        "outputId": "3c36a386-f755-41fa-aae4-90353af00286"
      },
      "execution_count": 72,
      "outputs": [
        {
          "output_type": "stream",
          "name": "stdout",
          "text": [
            "Is John in the kitchen ?\n"
          ]
        }
      ]
    },
    {
      "cell_type": "code",
      "source": [
        "print(\"True Test Answer:\",test_data[0][2])"
      ],
      "metadata": {
        "colab": {
          "base_uri": "https://localhost:8080/"
        },
        "id": "ZKSMvXxnF5XK",
        "outputId": "9c0b0223-fe60-4acd-a051-5a780b0495c3"
      },
      "execution_count": 73,
      "outputs": [
        {
          "output_type": "stream",
          "name": "stdout",
          "text": [
            "True Test Answer: no\n"
          ]
        }
      ]
    },
    {
      "cell_type": "code",
      "source": [
        "#Generate prediction from model\n",
        "val_max = np.argmax(pred_results[0])\n",
        "\n",
        "for key, val in tokenizer.word_index.items():\n",
        "    if val == val_max:\n",
        "        k = key\n",
        "\n",
        "print(\"Predicted answer is: \", k)\n",
        "print(\"Probability: \", pred_results[0][val_max])"
      ],
      "metadata": {
        "colab": {
          "base_uri": "https://localhost:8080/"
        },
        "id": "DZYOcYBPF_Ye",
        "outputId": "f1c3b722-6873-4a3e-fbc9-93702277656d"
      },
      "execution_count": 74,
      "outputs": [
        {
          "output_type": "stream",
          "name": "stdout",
          "text": [
            "Predicted answer is:  no\n",
            "Probability:  0.9983688\n"
          ]
        }
      ]
    },
    {
      "cell_type": "code",
      "source": [
        "vocab"
      ],
      "metadata": {
        "colab": {
          "base_uri": "https://localhost:8080/"
        },
        "id": "NdVi-YPuGD8y",
        "outputId": "62535d99-f23c-4f60-b8e6-3d384579ea12"
      },
      "execution_count": 190,
      "outputs": [
        {
          "output_type": "execute_result",
          "data": {
            "text/plain": [
              "{'.',\n",
              " '?',\n",
              " 'Daniel',\n",
              " 'Is',\n",
              " 'John',\n",
              " 'Mary',\n",
              " 'Sandra',\n",
              " 'apple',\n",
              " 'back',\n",
              " 'bathroom',\n",
              " 'bedroom',\n",
              " 'discarded',\n",
              " 'down',\n",
              " 'dropped',\n",
              " 'football',\n",
              " 'garden',\n",
              " 'got',\n",
              " 'grabbed',\n",
              " 'hallway',\n",
              " 'in',\n",
              " 'journeyed',\n",
              " 'kitchen',\n",
              " 'left',\n",
              " 'milk',\n",
              " 'moved',\n",
              " 'no',\n",
              " 'office',\n",
              " 'picked',\n",
              " 'put',\n",
              " 'the',\n",
              " 'there',\n",
              " 'to',\n",
              " 'took',\n",
              " 'travelled',\n",
              " 'up',\n",
              " 'went',\n",
              " 'yes'}"
            ]
          },
          "metadata": {},
          "execution_count": 190
        }
      ]
    },
    {
      "cell_type": "code",
      "source": [
        "new_story = \"John left the bathroom . Sandra dropped the football in the garden .\""
      ],
      "metadata": {
        "id": "6j1443UqGHm8"
      },
      "execution_count": 224,
      "outputs": []
    },
    {
      "cell_type": "code",
      "source": [
        "new_story.split()"
      ],
      "metadata": {
        "colab": {
          "base_uri": "https://localhost:8080/"
        },
        "id": "GFthkOabjE0F",
        "outputId": "0e7ea498-8276-4700-dc03-16a63a75dd6a"
      },
      "execution_count": 225,
      "outputs": [
        {
          "output_type": "execute_result",
          "data": {
            "text/plain": [
              "['John',\n",
              " 'left',\n",
              " 'the',\n",
              " 'bathroom',\n",
              " '.',\n",
              " 'Sandra',\n",
              " 'dropped',\n",
              " 'the',\n",
              " 'football',\n",
              " 'in',\n",
              " 'the',\n",
              " 'garden',\n",
              " '.']"
            ]
          },
          "metadata": {},
          "execution_count": 225
        }
      ]
    },
    {
      "cell_type": "code",
      "source": [
        "new_ques = \"Is the football in the garden ?\""
      ],
      "metadata": {
        "id": "ELPl--PEGKgx"
      },
      "execution_count": 226,
      "outputs": []
    },
    {
      "cell_type": "code",
      "source": [
        "new_ques.split()"
      ],
      "metadata": {
        "colab": {
          "base_uri": "https://localhost:8080/"
        },
        "id": "DFkUitXYGdfU",
        "outputId": "1281f420-a6b1-4f6e-e73d-b96d391583ad"
      },
      "execution_count": 227,
      "outputs": [
        {
          "output_type": "execute_result",
          "data": {
            "text/plain": [
              "['Is', 'the', 'football', 'in', 'the', 'garden', '?']"
            ]
          },
          "metadata": {},
          "execution_count": 227
        }
      ]
    },
    {
      "cell_type": "code",
      "source": [
        "new_data = [(new_story.split(), new_ques.split(), 'yes')]"
      ],
      "metadata": {
        "id": "KoDJpa7LGgnf"
      },
      "execution_count": 228,
      "outputs": []
    },
    {
      "cell_type": "code",
      "source": [
        "new_story,new_ques,new_ans = vectorize_stories(new_data)"
      ],
      "metadata": {
        "id": "GvJLj-wjGnip"
      },
      "execution_count": 229,
      "outputs": []
    },
    {
      "cell_type": "code",
      "source": [
        "pred_results = model.predict(([ new_story, new_ques]))"
      ],
      "metadata": {
        "id": "AsnCKe_dGsUJ"
      },
      "execution_count": 230,
      "outputs": []
    },
    {
      "cell_type": "code",
      "source": [
        "val_max = np.argmax(pred_results[0])\n",
        "\"\"\n",
        "for key, val in tokenizer.word_index.items():\n",
        "    if val == val_max:\n",
        "        k = key\n",
        "\n",
        "print(\"Predicted answer is: \", k)\n",
        "print(\"Probability: \", pred_results[0][val_max])"
      ],
      "metadata": {
        "colab": {
          "base_uri": "https://localhost:8080/"
        },
        "id": "KEQbEtPEHuwv",
        "outputId": "e5c7b330-5602-40e0-9379-3b7856cb516c"
      },
      "execution_count": 231,
      "outputs": [
        {
          "output_type": "stream",
          "name": "stdout",
          "text": [
            "Predicted answer is:  yes\n",
            "Probability:  0.9678238\n"
          ]
        }
      ]
    },
    {
      "cell_type": "code",
      "source": [
        "new_story2 = \"Mary picked up the apple . John went in the hallway .\" "
      ],
      "metadata": {
        "id": "1q5vYcA2mqi3"
      },
      "execution_count": 242,
      "outputs": []
    },
    {
      "cell_type": "code",
      "source": [
        "new_story2.split()"
      ],
      "metadata": {
        "colab": {
          "base_uri": "https://localhost:8080/"
        },
        "id": "x_b23jSCnLaT",
        "outputId": "dda66c72-efc1-4ba8-ca94-d6c1e622ccef"
      },
      "execution_count": 244,
      "outputs": [
        {
          "output_type": "execute_result",
          "data": {
            "text/plain": [
              "['Mary',\n",
              " 'picked',\n",
              " 'up',\n",
              " 'the',\n",
              " 'apple',\n",
              " '.',\n",
              " 'John',\n",
              " 'went',\n",
              " 'in',\n",
              " 'the',\n",
              " 'hallway',\n",
              " '.']"
            ]
          },
          "metadata": {},
          "execution_count": 244
        }
      ]
    },
    {
      "cell_type": "code",
      "source": [
        "new_ques2 = \"Is John in the hallway ?\""
      ],
      "metadata": {
        "id": "KOsxVSC2nNtA"
      },
      "execution_count": 245,
      "outputs": []
    },
    {
      "cell_type": "code",
      "source": [
        "new_ques2.split()"
      ],
      "metadata": {
        "colab": {
          "base_uri": "https://localhost:8080/"
        },
        "id": "QIIfy7HqnWOD",
        "outputId": "f949c684-afd6-48d7-9ce7-c0570e75639f"
      },
      "execution_count": 246,
      "outputs": [
        {
          "output_type": "execute_result",
          "data": {
            "text/plain": [
              "['Is', 'John', 'in', 'the', 'hallway', '?']"
            ]
          },
          "metadata": {},
          "execution_count": 246
        }
      ]
    },
    {
      "cell_type": "code",
      "source": [
        "new_data2 = [(new_story2.split(), new_ques2.split(), 'yes')]"
      ],
      "metadata": {
        "id": "0dTVllN_nZwG"
      },
      "execution_count": 247,
      "outputs": []
    },
    {
      "cell_type": "code",
      "source": [
        "new_story2,new_ques2,new_ans2 = vectorize_stories(new_data2)"
      ],
      "metadata": {
        "id": "Veb8Ia-tnexy"
      },
      "execution_count": 248,
      "outputs": []
    },
    {
      "cell_type": "code",
      "source": [
        "pred_results2 = model.predict(([ new_story2, new_ques2]))"
      ],
      "metadata": {
        "id": "o5qQeD88nvpF"
      },
      "execution_count": 250,
      "outputs": []
    },
    {
      "cell_type": "code",
      "source": [
        "val_max = np.argmax(pred_results2[0])\n",
        "\"\"\n",
        "for key, val in tokenizer.word_index.items():\n",
        "    if val == val_max:\n",
        "        k = key\n",
        "\n",
        "print(\"Predicted answer is: \", k)\n",
        "print(\"Probability: \", pred_results[0][val_max])"
      ],
      "metadata": {
        "colab": {
          "base_uri": "https://localhost:8080/"
        },
        "id": "uufmQiqTnzPd",
        "outputId": "97e2b69d-c1b5-4f9b-cec9-aadc19bebdfc"
      },
      "execution_count": 251,
      "outputs": [
        {
          "output_type": "stream",
          "name": "stdout",
          "text": [
            "Predicted answer is:  yes\n",
            "Probability:  0.9205867\n"
          ]
        }
      ]
    },
    {
      "cell_type": "code",
      "source": [
        ""
      ],
      "metadata": {
        "id": "AaQBJh50n7H0"
      },
      "execution_count": null,
      "outputs": []
    }
  ]
}